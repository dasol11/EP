{
 "cells": [
  {
   "cell_type": "code",
   "execution_count": 1,
   "id": "fdfe1ef1",
   "metadata": {},
   "outputs": [],
   "source": [
    "import pandas as pd\n",
    "import numpy as np"
   ]
  },
  {
   "cell_type": "code",
   "execution_count": 4,
   "id": "e906f853",
   "metadata": {},
   "outputs": [],
   "source": [
    "df = pd.read_csv('./data/2010-2011 Solar home electricity data(Preprocessed).csv')"
   ]
  },
  {
   "cell_type": "code",
   "execution_count": 5,
   "id": "ca5cdfa9",
   "metadata": {},
   "outputs": [],
   "source": [
    "tidue = pd.read_csv('./data/postcode_to_위경도.csv')"
   ]
  },
  {
   "cell_type": "code",
   "execution_count": 142,
   "id": "a23da5bd",
   "metadata": {},
   "outputs": [
    {
     "data": {
      "text/html": [
       "<div>\n",
       "<style scoped>\n",
       "    .dataframe tbody tr th:only-of-type {\n",
       "        vertical-align: middle;\n",
       "    }\n",
       "\n",
       "    .dataframe tbody tr th {\n",
       "        vertical-align: top;\n",
       "    }\n",
       "\n",
       "    .dataframe thead th {\n",
       "        text-align: right;\n",
       "    }\n",
       "</style>\n",
       "<table border=\"1\" class=\"dataframe\">\n",
       "  <thead>\n",
       "    <tr style=\"text-align: right;\">\n",
       "      <th></th>\n",
       "      <th>postcode</th>\n",
       "      <th>x</th>\n",
       "      <th>y</th>\n",
       "    </tr>\n",
       "  </thead>\n",
       "  <tbody>\n",
       "    <tr>\n",
       "      <th>0</th>\n",
       "      <td>2048</td>\n",
       "      <td>-33.893453</td>\n",
       "      <td>151.164381</td>\n",
       "    </tr>\n",
       "    <tr>\n",
       "      <th>1</th>\n",
       "      <td>2305</td>\n",
       "      <td>-32.927424</td>\n",
       "      <td>151.706411</td>\n",
       "    </tr>\n",
       "    <tr>\n",
       "      <th>2</th>\n",
       "      <td>2066</td>\n",
       "      <td>-33.812602</td>\n",
       "      <td>151.169451</td>\n",
       "    </tr>\n",
       "    <tr>\n",
       "      <th>3</th>\n",
       "      <td>2076</td>\n",
       "      <td>-33.708586</td>\n",
       "      <td>151.122843</td>\n",
       "    </tr>\n",
       "    <tr>\n",
       "      <th>4</th>\n",
       "      <td>2205</td>\n",
       "      <td>-33.937810</td>\n",
       "      <td>151.149058</td>\n",
       "    </tr>\n",
       "    <tr>\n",
       "      <th>5</th>\n",
       "      <td>2204</td>\n",
       "      <td>-33.908629</td>\n",
       "      <td>151.154885</td>\n",
       "    </tr>\n",
       "    <tr>\n",
       "      <th>6</th>\n",
       "      <td>2079</td>\n",
       "      <td>-33.670909</td>\n",
       "      <td>151.125756</td>\n",
       "    </tr>\n",
       "    <tr>\n",
       "      <th>7</th>\n",
       "      <td>2209</td>\n",
       "      <td>-33.945492</td>\n",
       "      <td>151.079161</td>\n",
       "    </tr>\n",
       "    <tr>\n",
       "      <th>8</th>\n",
       "      <td>2085</td>\n",
       "      <td>-33.729324</td>\n",
       "      <td>151.204416</td>\n",
       "    </tr>\n",
       "    <tr>\n",
       "      <th>9</th>\n",
       "      <td>2087</td>\n",
       "      <td>-33.773259</td>\n",
       "      <td>151.216073</td>\n",
       "    </tr>\n",
       "    <tr>\n",
       "      <th>10</th>\n",
       "      <td>2220</td>\n",
       "      <td>-33.958369</td>\n",
       "      <td>151.099545</td>\n",
       "    </tr>\n",
       "    <tr>\n",
       "      <th>11</th>\n",
       "      <td>2093</td>\n",
       "      <td>-33.805574</td>\n",
       "      <td>151.262708</td>\n",
       "    </tr>\n",
       "    <tr>\n",
       "      <th>12</th>\n",
       "      <td>2227</td>\n",
       "      <td>-34.043981</td>\n",
       "      <td>151.084985</td>\n",
       "    </tr>\n",
       "    <tr>\n",
       "      <th>13</th>\n",
       "      <td>2099</td>\n",
       "      <td>-33.750008</td>\n",
       "      <td>151.286031</td>\n",
       "    </tr>\n",
       "    <tr>\n",
       "      <th>14</th>\n",
       "      <td>2100</td>\n",
       "      <td>-33.764598</td>\n",
       "      <td>151.262708</td>\n",
       "    </tr>\n",
       "    <tr>\n",
       "      <th>15</th>\n",
       "      <td>2230</td>\n",
       "      <td>-34.062186</td>\n",
       "      <td>151.146145</td>\n",
       "    </tr>\n",
       "    <tr>\n",
       "      <th>16</th>\n",
       "      <td>2119</td>\n",
       "      <td>-33.755167</td>\n",
       "      <td>151.064603</td>\n",
       "    </tr>\n",
       "    <tr>\n",
       "      <th>17</th>\n",
       "      <td>2251</td>\n",
       "      <td>-33.472132</td>\n",
       "      <td>151.385190</td>\n",
       "    </tr>\n",
       "    <tr>\n",
       "      <th>18</th>\n",
       "      <td>2126</td>\n",
       "      <td>-33.728747</td>\n",
       "      <td>151.041313</td>\n",
       "    </tr>\n",
       "    <tr>\n",
       "      <th>19</th>\n",
       "      <td>2259</td>\n",
       "      <td>-33.205946</td>\n",
       "      <td>151.350186</td>\n",
       "    </tr>\n",
       "    <tr>\n",
       "      <th>20</th>\n",
       "      <td>2261</td>\n",
       "      <td>-33.360333</td>\n",
       "      <td>151.431874</td>\n",
       "    </tr>\n",
       "    <tr>\n",
       "      <th>21</th>\n",
       "      <td>2262</td>\n",
       "      <td>-33.207558</td>\n",
       "      <td>151.542803</td>\n",
       "    </tr>\n",
       "    <tr>\n",
       "      <th>22</th>\n",
       "      <td>2263</td>\n",
       "      <td>-33.250436</td>\n",
       "      <td>151.507765</td>\n",
       "    </tr>\n",
       "    <tr>\n",
       "      <th>23</th>\n",
       "      <td>2135</td>\n",
       "      <td>-33.880881</td>\n",
       "      <td>151.076249</td>\n",
       "    </tr>\n",
       "    <tr>\n",
       "      <th>24</th>\n",
       "      <td>2137</td>\n",
       "      <td>-33.854349</td>\n",
       "      <td>151.102457</td>\n",
       "    </tr>\n",
       "    <tr>\n",
       "      <th>25</th>\n",
       "      <td>2265</td>\n",
       "      <td>-33.064147</td>\n",
       "      <td>151.443547</td>\n",
       "    </tr>\n",
       "    <tr>\n",
       "      <th>26</th>\n",
       "      <td>2134</td>\n",
       "      <td>-33.879912</td>\n",
       "      <td>151.102457</td>\n",
       "    </tr>\n",
       "    <tr>\n",
       "      <th>27</th>\n",
       "      <td>2278</td>\n",
       "      <td>-32.935137</td>\n",
       "      <td>151.548643</td>\n",
       "    </tr>\n",
       "    <tr>\n",
       "      <th>28</th>\n",
       "      <td>2280</td>\n",
       "      <td>-33.022331</td>\n",
       "      <td>151.671339</td>\n",
       "    </tr>\n",
       "    <tr>\n",
       "      <th>29</th>\n",
       "      <td>2282</td>\n",
       "      <td>-32.964824</td>\n",
       "      <td>151.647961</td>\n",
       "    </tr>\n",
       "    <tr>\n",
       "      <th>30</th>\n",
       "      <td>2283</td>\n",
       "      <td>-33.050132</td>\n",
       "      <td>151.595374</td>\n",
       "    </tr>\n",
       "    <tr>\n",
       "      <th>31</th>\n",
       "      <td>2284</td>\n",
       "      <td>-32.952447</td>\n",
       "      <td>151.618744</td>\n",
       "    </tr>\n",
       "    <tr>\n",
       "      <th>32</th>\n",
       "      <td>2289</td>\n",
       "      <td>-32.948140</td>\n",
       "      <td>151.706411</td>\n",
       "    </tr>\n",
       "    <tr>\n",
       "      <th>33</th>\n",
       "      <td>2290</td>\n",
       "      <td>-32.975467</td>\n",
       "      <td>151.712257</td>\n",
       "    </tr>\n",
       "  </tbody>\n",
       "</table>\n",
       "</div>"
      ],
      "text/plain": [
       "    postcode          x           y\n",
       "0       2048 -33.893453  151.164381\n",
       "1       2305 -32.927424  151.706411\n",
       "2       2066 -33.812602  151.169451\n",
       "3       2076 -33.708586  151.122843\n",
       "4       2205 -33.937810  151.149058\n",
       "5       2204 -33.908629  151.154885\n",
       "6       2079 -33.670909  151.125756\n",
       "7       2209 -33.945492  151.079161\n",
       "8       2085 -33.729324  151.204416\n",
       "9       2087 -33.773259  151.216073\n",
       "10      2220 -33.958369  151.099545\n",
       "11      2093 -33.805574  151.262708\n",
       "12      2227 -34.043981  151.084985\n",
       "13      2099 -33.750008  151.286031\n",
       "14      2100 -33.764598  151.262708\n",
       "15      2230 -34.062186  151.146145\n",
       "16      2119 -33.755167  151.064603\n",
       "17      2251 -33.472132  151.385190\n",
       "18      2126 -33.728747  151.041313\n",
       "19      2259 -33.205946  151.350186\n",
       "20      2261 -33.360333  151.431874\n",
       "21      2262 -33.207558  151.542803\n",
       "22      2263 -33.250436  151.507765\n",
       "23      2135 -33.880881  151.076249\n",
       "24      2137 -33.854349  151.102457\n",
       "25      2265 -33.064147  151.443547\n",
       "26      2134 -33.879912  151.102457\n",
       "27      2278 -32.935137  151.548643\n",
       "28      2280 -33.022331  151.671339\n",
       "29      2282 -32.964824  151.647961\n",
       "30      2283 -33.050132  151.595374\n",
       "31      2284 -32.952447  151.618744\n",
       "32      2289 -32.948140  151.706411\n",
       "33      2290 -32.975467  151.712257"
      ]
     },
     "execution_count": 142,
     "metadata": {},
     "output_type": "execute_result"
    }
   ],
   "source": [
    "tidue"
   ]
  },
  {
   "cell_type": "code",
   "execution_count": 55,
   "id": "5d60b873",
   "metadata": {},
   "outputs": [],
   "source": [
    "GG_cnt = df[df['Consumption Category'] == 'GG']['Postcode'].value_counts() / 17520"
   ]
  },
  {
   "cell_type": "code",
   "execution_count": 58,
   "id": "6ddb5a97",
   "metadata": {},
   "outputs": [
    {
     "data": {
      "text/plain": [
       "100"
      ]
     },
     "execution_count": 58,
     "metadata": {},
     "output_type": "execute_result"
    }
   ],
   "source": [
    "GG_cnt.sort_index(ascending=True).index"
   ]
  },
  {
   "cell_type": "code",
   "execution_count": 35,
   "id": "36246978",
   "metadata": {},
   "outputs": [],
   "source": [
    "CL_cnt = df[df['Consumption Category'] == 'CL']['Postcode'].value_counts() / 17520"
   ]
  },
  {
   "cell_type": "code",
   "execution_count": 45,
   "id": "59d04643",
   "metadata": {},
   "outputs": [
    {
     "data": {
      "text/plain": [
       "Float64Index([2046.0, 2047.0, 2048.0, 2066.0, 2076.0, 2077.0, 2079.0, 2084.0,\n",
       "              2085.0, 2086.0, 2087.0, 2093.0, 2099.0, 2100.0, 2119.0, 2120.0,\n",
       "              2126.0, 2134.0, 2135.0, 2137.0, 2159.0, 2190.0, 2196.0, 2198.0,\n",
       "              2200.0, 2203.0, 2204.0, 2205.0, 2208.0, 2209.0, 2218.0, 2219.0,\n",
       "              2220.0, 2227.0, 2228.0, 2230.0, 2231.0, 2233.0, 2250.0, 2251.0,\n",
       "              2259.0, 2260.0, 2261.0, 2262.0, 2263.0, 2265.0, 2278.0, 2280.0,\n",
       "              2281.0, 2282.0, 2283.0, 2284.0, 2289.0, 2290.0, 2293.0, 2305.0,\n",
       "              2315.0, 2320.0, 2321.0, 2324.0, 2325.0],\n",
       "             dtype='float64')"
      ]
     },
     "execution_count": 45,
     "metadata": {},
     "output_type": "execute_result"
    }
   ],
   "source": [
    "CL_cnt.sort_index(ascending=True).index"
   ]
  },
  {
   "cell_type": "code",
   "execution_count": 37,
   "id": "29bc587f",
   "metadata": {},
   "outputs": [],
   "source": [
    "GC_cnt = df[df['Consumption Category'] == 'GC']['Postcode'].value_counts() / 17520"
   ]
  },
  {
   "cell_type": "code",
   "execution_count": 40,
   "id": "7246820c",
   "metadata": {},
   "outputs": [
    {
     "data": {
      "text/plain": [
       "2008.0    1.0\n",
       "2010.0    1.0\n",
       "2018.0    2.0\n",
       "2021.0    1.0\n",
       "2025.0    1.0\n",
       "         ... \n",
       "2321.0    1.0\n",
       "2324.0    1.0\n",
       "2325.0    3.0\n",
       "2326.0    1.0\n",
       "2330.0    1.0\n",
       "Name: Postcode, Length: 100, dtype: float64"
      ]
     },
     "execution_count": 40,
     "metadata": {},
     "output_type": "execute_result"
    }
   ],
   "source": [
    "GC_cnt.sort_index(ascending=True)"
   ]
  },
  {
   "cell_type": "code",
   "execution_count": 94,
   "id": "600d7cee",
   "metadata": {},
   "outputs": [],
   "source": [
    "postcode_sorted = pd.DataFrame(GG_cnt.sort_index(ascending=True).index.astype(int), columns = ['postcode'])"
   ]
  },
  {
   "cell_type": "code",
   "execution_count": 95,
   "id": "d76cc9dc",
   "metadata": {},
   "outputs": [],
   "source": [
    "GG_sorted_cnt = pd.DataFrame(GG_cnt.sort_index(ascending=True).values.astype(int), columns = ['GG_customer_count'])"
   ]
  },
  {
   "cell_type": "code",
   "execution_count": 96,
   "id": "273cf65d",
   "metadata": {},
   "outputs": [],
   "source": [
    "GC_sorted_cnt = pd.DataFrame(GC_cnt.sort_index(ascending=True).values.astype(int), columns = ['GC_customer_count'])"
   ]
  },
  {
   "cell_type": "code",
   "execution_count": 115,
   "id": "68ae8c97",
   "metadata": {},
   "outputs": [],
   "source": [
    "location_df = pd.concat([postcode_sorted,GG_sorted_cnt,GC_sorted_cnt], axis=1)"
   ]
  },
  {
   "cell_type": "code",
   "execution_count": 113,
   "id": "8a7da816",
   "metadata": {},
   "outputs": [],
   "source": [
    "postcode_df_cnt = pd.DataFrame(CL_cnt.sort_index(ascending=True).index.astype(int), columns=['postcode'])\n",
    "CL_df_cnt = pd.DataFrame(CL_cnt.sort_index(ascending=True).values.astype(int), columns=['CL_customer_count'])"
   ]
  },
  {
   "cell_type": "code",
   "execution_count": 116,
   "id": "5675df0f",
   "metadata": {},
   "outputs": [],
   "source": [
    "CL_location = pd.concat([postcode_df_cnt, CL_df_cnt], axis=1)"
   ]
  },
  {
   "cell_type": "code",
   "execution_count": 124,
   "id": "592b9c9d",
   "metadata": {},
   "outputs": [],
   "source": [
    "location_df = pd.merge(location_df, CL_location, left_on='postcode', right_on = 'postcode',how='left')"
   ]
  },
  {
   "cell_type": "code",
   "execution_count": 132,
   "id": "e723deb2",
   "metadata": {},
   "outputs": [],
   "source": [
    "location_df = location_df.fillna(int(0))"
   ]
  },
  {
   "cell_type": "code",
   "execution_count": 136,
   "id": "1ae6614b",
   "metadata": {},
   "outputs": [],
   "source": [
    "location_df['CL_customer_count'] = location_df['CL_customer_count'].astype(int)"
   ]
  },
  {
   "cell_type": "code",
   "execution_count": 138,
   "id": "b1adacbe",
   "metadata": {},
   "outputs": [],
   "source": [
    "location_df.to_csv('./data/customer_location.csv')"
   ]
  },
  {
   "cell_type": "code",
   "execution_count": null,
   "id": "cb1ef83c",
   "metadata": {},
   "outputs": [],
   "source": []
  }
 ],
 "metadata": {
  "kernelspec": {
   "display_name": "Python 3 (ipykernel)",
   "language": "python",
   "name": "python3"
  },
  "language_info": {
   "codemirror_mode": {
    "name": "ipython",
    "version": 3
   },
   "file_extension": ".py",
   "mimetype": "text/x-python",
   "name": "python",
   "nbconvert_exporter": "python",
   "pygments_lexer": "ipython3",
   "version": "3.8.12"
  }
 },
 "nbformat": 4,
 "nbformat_minor": 5
}
