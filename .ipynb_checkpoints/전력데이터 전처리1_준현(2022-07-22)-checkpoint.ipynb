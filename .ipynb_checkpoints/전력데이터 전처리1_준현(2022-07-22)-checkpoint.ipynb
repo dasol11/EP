{
 "cells": [
  {
   "cell_type": "code",
   "execution_count": 2,
   "id": "8320a545",
   "metadata": {},
   "outputs": [],
   "source": [
    "import pandas as pd\n",
    "import numpy as np"
   ]
  },
  {
   "cell_type": "code",
   "execution_count": 3,
   "id": "f105e629",
   "metadata": {},
   "outputs": [],
   "source": [
    "df = pd.read_csv('E:\\\\연구실\\\\연구과제\\\\에너지프로슈머\\\\2022.07.14 (데이터)\\\\Aus Grid\\\\Solar home half-hour data - 1 July 2010 to 30 June 2011\\\\2010-2011 Solar home electricity data.csv')"
   ]
  },
  {
   "cell_type": "code",
   "execution_count": 4,
   "id": "0afbf5cb",
   "metadata": {},
   "outputs": [],
   "source": [
    "GC_df = df[df['Consumption Category'] == \"GC\"]\n",
    "CL_df = df[df['Consumption Category'] == \"CL\"]\n",
    "GG_df = df[df['Consumption Category'] == \"GG\"]"
   ]
  },
  {
   "cell_type": "code",
   "execution_count": 5,
   "id": "73ff0598",
   "metadata": {},
   "outputs": [],
   "source": [
    "dates = pd.date_range('2010-07-01 00:30:00','2011-07-01 00:00:00',freq='30T') ## 일단위로 생성"
   ]
  },
  {
   "cell_type": "code",
   "execution_count": 6,
   "id": "43d05492",
   "metadata": {},
   "outputs": [
    {
     "data": {
      "text/plain": [
       "array(['CL', 'GC', 'GG'], dtype=object)"
      ]
     },
     "execution_count": 6,
     "metadata": {},
     "output_type": "execute_result"
    }
   ],
   "source": [
    "np.unique(df['Consumption Category'])"
   ]
  },
  {
   "cell_type": "code",
   "execution_count": 76,
   "id": "f7d3be0c",
   "metadata": {},
   "outputs": [],
   "source": [
    "preprocessed_data = np.empty((0,5))\n",
    "for k in range(3):\n",
    "    GC_df = df[df['Consumption Category'] == np.unique(df['Consumption Category'])[k]]\n",
    "    customer_300 = np.empty((0,5))\n",
    "    for j in range(len(np.unique(GC_df['Customer']))):\n",
    "        c1 = GC_df[GC_df['Customer'] == np.unique(GC_df['Customer'])[j]]\n",
    "\n",
    "        customer = np.zeros((17520,1))\n",
    "        postcode = np.zeros((17520,1))\n",
    "        generator_Capacity = np.zeros((17520,1))\n",
    "        consumption_Category = np.zeros((17520,1), dtype=\"<U2\")\n",
    "        \n",
    "        arr = np.array([])\n",
    "        for i in range(365):\n",
    "            arr = np.append(arr, c1.iloc[:,5:].transpose().iloc[:,i])\n",
    "\n",
    "        customer.fill(np.unique(c1['Customer'])[0])\n",
    "        postcode.fill(np.unique(c1['Postcode'])[0])\n",
    "        generator_Capacity.fill(np.unique(c1['Generator Capacity'])[0])\n",
    "        consumption_Category.fill(np.unique(c1['Consumption Category'])[0])\n",
    "        \n",
    "        # 1년치 데이터\n",
    "        cdata = np.concatenate([customer, postcode, generator_Capacity, consumption_Category, arr.reshape(17520,1)], axis=1)\n",
    "\n",
    "        customer_300 = np.concatenate([customer_300, cdata], axis=0)\n",
    "\n",
    "    preprocessed_data = np.concatenate([preprocessed_data,customer_300], axis=0)"
   ]
  },
  {
   "cell_type": "code",
   "execution_count": 77,
   "id": "bd2b1934",
   "metadata": {},
   "outputs": [
    {
     "name": "stdout",
     "output_type": "stream",
     "text": [
      "(50735, 53)\n",
      "(109500, 53)\n",
      "(109500, 53)\n"
     ]
    }
   ],
   "source": [
    "print(df[df['Consumption Category'] == np.unique(df['Consumption Category'])[0]].shape)\n",
    "print(df[df['Consumption Category'] == np.unique(df['Consumption Category'])[1]].shape)\n",
    "print(df[df['Consumption Category'] == np.unique(df['Consumption Category'])[2]].shape)"
   ]
  },
  {
   "cell_type": "code",
   "execution_count": 78,
   "id": "e3cc582e",
   "metadata": {},
   "outputs": [],
   "source": [
    "colnames = np.array(['Customer', 'Postcode', 'Generator Capacity', 'Consumption Category', 'Load(kWh)'])"
   ]
  },
  {
   "cell_type": "code",
   "execution_count": 79,
   "id": "6cae19d2",
   "metadata": {},
   "outputs": [],
   "source": [
    "preprocedDf = pd.DataFrame(preprocessed_data, columns = colnames)"
   ]
  },
  {
   "cell_type": "code",
   "execution_count": 80,
   "id": "c96e836c",
   "metadata": {},
   "outputs": [],
   "source": [
    "repdate = dates\n",
    "for i in range(738):\n",
    "    repdate = np.append(repdate,dates, axis=0)"
   ]
  },
  {
   "cell_type": "code",
   "execution_count": 81,
   "id": "7563ecdd",
   "metadata": {},
   "outputs": [],
   "source": [
    "dd = pd.concat([pd.DataFrame(repdate, columns=['date']),preprocedDf], axis=1)"
   ]
  },
  {
   "cell_type": "code",
   "execution_count": 82,
   "id": "55ba9fb0",
   "metadata": {},
   "outputs": [
    {
     "data": {
      "text/html": [
       "<div>\n",
       "<style scoped>\n",
       "    .dataframe tbody tr th:only-of-type {\n",
       "        vertical-align: middle;\n",
       "    }\n",
       "\n",
       "    .dataframe tbody tr th {\n",
       "        vertical-align: top;\n",
       "    }\n",
       "\n",
       "    .dataframe thead th {\n",
       "        text-align: right;\n",
       "    }\n",
       "</style>\n",
       "<table border=\"1\" class=\"dataframe\">\n",
       "  <thead>\n",
       "    <tr style=\"text-align: right;\">\n",
       "      <th></th>\n",
       "      <th>date</th>\n",
       "      <th>Customer</th>\n",
       "      <th>Postcode</th>\n",
       "      <th>Generator Capacity</th>\n",
       "      <th>Consumption Category</th>\n",
       "      <th>Load(kWh)</th>\n",
       "    </tr>\n",
       "  </thead>\n",
       "  <tbody>\n",
       "    <tr>\n",
       "      <th>0</th>\n",
       "      <td>2010-07-01 00:30:00</td>\n",
       "      <td>1.0</td>\n",
       "      <td>2076.0</td>\n",
       "      <td>3.78</td>\n",
       "      <td>CL</td>\n",
       "      <td>1.25</td>\n",
       "    </tr>\n",
       "    <tr>\n",
       "      <th>1</th>\n",
       "      <td>2010-07-01 01:00:00</td>\n",
       "      <td>1.0</td>\n",
       "      <td>2076.0</td>\n",
       "      <td>3.78</td>\n",
       "      <td>CL</td>\n",
       "      <td>1.244</td>\n",
       "    </tr>\n",
       "    <tr>\n",
       "      <th>2</th>\n",
       "      <td>2010-07-01 01:30:00</td>\n",
       "      <td>1.0</td>\n",
       "      <td>2076.0</td>\n",
       "      <td>3.78</td>\n",
       "      <td>CL</td>\n",
       "      <td>1.256</td>\n",
       "    </tr>\n",
       "    <tr>\n",
       "      <th>3</th>\n",
       "      <td>2010-07-01 02:00:00</td>\n",
       "      <td>1.0</td>\n",
       "      <td>2076.0</td>\n",
       "      <td>3.78</td>\n",
       "      <td>CL</td>\n",
       "      <td>0.744</td>\n",
       "    </tr>\n",
       "    <tr>\n",
       "      <th>4</th>\n",
       "      <td>2010-07-01 02:30:00</td>\n",
       "      <td>1.0</td>\n",
       "      <td>2076.0</td>\n",
       "      <td>3.78</td>\n",
       "      <td>CL</td>\n",
       "      <td>0.019</td>\n",
       "    </tr>\n",
       "  </tbody>\n",
       "</table>\n",
       "</div>"
      ],
      "text/plain": [
       "                 date Customer Postcode Generator Capacity  \\\n",
       "0 2010-07-01 00:30:00      1.0   2076.0               3.78   \n",
       "1 2010-07-01 01:00:00      1.0   2076.0               3.78   \n",
       "2 2010-07-01 01:30:00      1.0   2076.0               3.78   \n",
       "3 2010-07-01 02:00:00      1.0   2076.0               3.78   \n",
       "4 2010-07-01 02:30:00      1.0   2076.0               3.78   \n",
       "\n",
       "  Consumption Category Load(kWh)  \n",
       "0                   CL      1.25  \n",
       "1                   CL     1.244  \n",
       "2                   CL     1.256  \n",
       "3                   CL     0.744  \n",
       "4                   CL     0.019  "
      ]
     },
     "execution_count": 82,
     "metadata": {},
     "output_type": "execute_result"
    }
   ],
   "source": [
    "dd.head()"
   ]
  },
  {
   "cell_type": "code",
   "execution_count": 83,
   "id": "4add5f73",
   "metadata": {},
   "outputs": [
    {
     "data": {
      "text/html": [
       "<div>\n",
       "<style scoped>\n",
       "    .dataframe tbody tr th:only-of-type {\n",
       "        vertical-align: middle;\n",
       "    }\n",
       "\n",
       "    .dataframe tbody tr th {\n",
       "        vertical-align: top;\n",
       "    }\n",
       "\n",
       "    .dataframe thead th {\n",
       "        text-align: right;\n",
       "    }\n",
       "</style>\n",
       "<table border=\"1\" class=\"dataframe\">\n",
       "  <thead>\n",
       "    <tr style=\"text-align: right;\">\n",
       "      <th></th>\n",
       "      <th>date</th>\n",
       "      <th>Customer</th>\n",
       "      <th>Postcode</th>\n",
       "      <th>Generator Capacity</th>\n",
       "      <th>Consumption Category</th>\n",
       "      <th>Load(kWh)</th>\n",
       "    </tr>\n",
       "  </thead>\n",
       "  <tbody>\n",
       "    <tr>\n",
       "      <th>12947275</th>\n",
       "      <td>2011-06-30 22:00:00</td>\n",
       "      <td>300.0</td>\n",
       "      <td>2086.0</td>\n",
       "      <td>3.36</td>\n",
       "      <td>GG</td>\n",
       "      <td>0.0</td>\n",
       "    </tr>\n",
       "    <tr>\n",
       "      <th>12947276</th>\n",
       "      <td>2011-06-30 22:30:00</td>\n",
       "      <td>300.0</td>\n",
       "      <td>2086.0</td>\n",
       "      <td>3.36</td>\n",
       "      <td>GG</td>\n",
       "      <td>0.0</td>\n",
       "    </tr>\n",
       "    <tr>\n",
       "      <th>12947277</th>\n",
       "      <td>2011-06-30 23:00:00</td>\n",
       "      <td>300.0</td>\n",
       "      <td>2086.0</td>\n",
       "      <td>3.36</td>\n",
       "      <td>GG</td>\n",
       "      <td>0.0</td>\n",
       "    </tr>\n",
       "    <tr>\n",
       "      <th>12947278</th>\n",
       "      <td>2011-06-30 23:30:00</td>\n",
       "      <td>300.0</td>\n",
       "      <td>2086.0</td>\n",
       "      <td>3.36</td>\n",
       "      <td>GG</td>\n",
       "      <td>0.0</td>\n",
       "    </tr>\n",
       "    <tr>\n",
       "      <th>12947279</th>\n",
       "      <td>2011-07-01 00:00:00</td>\n",
       "      <td>300.0</td>\n",
       "      <td>2086.0</td>\n",
       "      <td>3.36</td>\n",
       "      <td>GG</td>\n",
       "      <td>0.0</td>\n",
       "    </tr>\n",
       "  </tbody>\n",
       "</table>\n",
       "</div>"
      ],
      "text/plain": [
       "                        date Customer Postcode Generator Capacity  \\\n",
       "12947275 2011-06-30 22:00:00    300.0   2086.0               3.36   \n",
       "12947276 2011-06-30 22:30:00    300.0   2086.0               3.36   \n",
       "12947277 2011-06-30 23:00:00    300.0   2086.0               3.36   \n",
       "12947278 2011-06-30 23:30:00    300.0   2086.0               3.36   \n",
       "12947279 2011-07-01 00:00:00    300.0   2086.0               3.36   \n",
       "\n",
       "         Consumption Category Load(kWh)  \n",
       "12947275                   GG       0.0  \n",
       "12947276                   GG       0.0  \n",
       "12947277                   GG       0.0  \n",
       "12947278                   GG       0.0  \n",
       "12947279                   GG       0.0  "
      ]
     },
     "execution_count": 83,
     "metadata": {},
     "output_type": "execute_result"
    }
   ],
   "source": [
    "dd.tail()"
   ]
  },
  {
   "cell_type": "code",
   "execution_count": 85,
   "id": "959ade8a",
   "metadata": {},
   "outputs": [],
   "source": [
    "dd.to_csv('E:\\\\연구실\\\\연구과제\\\\에너지프로슈머\\\\2022.07.14 (데이터)\\\\전처리 데이터\\\\2010-2011 Solar home electricity data(Preprocessed).csv', index=False)"
   ]
  },
  {
   "cell_type": "code",
   "execution_count": null,
   "id": "84bb21b4",
   "metadata": {},
   "outputs": [],
   "source": []
  }
 ],
 "metadata": {
  "kernelspec": {
   "display_name": "Python 3 (ipykernel)",
   "language": "python",
   "name": "python3"
  },
  "language_info": {
   "codemirror_mode": {
    "name": "ipython",
    "version": 3
   },
   "file_extension": ".py",
   "mimetype": "text/x-python",
   "name": "python",
   "nbconvert_exporter": "python",
   "pygments_lexer": "ipython3",
   "version": "3.9.7"
  }
 },
 "nbformat": 4,
 "nbformat_minor": 5
}
