{
 "cells": [
  {
   "cell_type": "code",
   "execution_count": 1,
   "id": "4426cf4f",
   "metadata": {},
   "outputs": [],
   "source": [
    "import pandas as pd\n",
    "import numpy as np"
   ]
  },
  {
   "cell_type": "code",
   "execution_count": 4,
   "id": "0cac96cb",
   "metadata": {},
   "outputs": [],
   "source": [
    "df = pd.read_csv('./data/2010-2011 Solar home electricity data(Preprocessed).csv')"
   ]
  },
  {
   "cell_type": "code",
   "execution_count": 5,
   "id": "296017ce",
   "metadata": {},
   "outputs": [],
   "source": [
    "tidue = pd.read_csv('./data/postcode_to_위경도.csv')"
   ]
  },
  {
   "cell_type": "code",
   "execution_count": 55,
   "id": "0c07dc5a",
   "metadata": {},
   "outputs": [],
   "source": [
    "GG_cnt = df[df['Consumption Category'] == 'GG']['Postcode'].value_counts() / 17520"
   ]
  },
  {
   "cell_type": "code",
   "execution_count": 58,
   "id": "047c5c9f",
   "metadata": {},
   "outputs": [
    {
     "data": {
      "text/plain": [
       "100"
      ]
     },
     "execution_count": 58,
     "metadata": {},
     "output_type": "execute_result"
    }
   ],
   "source": [
    "GG_cnt.sort_index(ascending=True).index"
   ]
  },
  {
   "cell_type": "code",
   "execution_count": 35,
   "id": "88a80f9c",
   "metadata": {},
   "outputs": [],
   "source": [
    "CL_cnt = df[df['Consumption Category'] == 'CL']['Postcode'].value_counts() / 17520"
   ]
  },
  {
   "cell_type": "code",
   "execution_count": 45,
   "id": "1d036051",
   "metadata": {},
   "outputs": [
    {
     "data": {
      "text/plain": [
       "Float64Index([2046.0, 2047.0, 2048.0, 2066.0, 2076.0, 2077.0, 2079.0, 2084.0,\n",
       "              2085.0, 2086.0, 2087.0, 2093.0, 2099.0, 2100.0, 2119.0, 2120.0,\n",
       "              2126.0, 2134.0, 2135.0, 2137.0, 2159.0, 2190.0, 2196.0, 2198.0,\n",
       "              2200.0, 2203.0, 2204.0, 2205.0, 2208.0, 2209.0, 2218.0, 2219.0,\n",
       "              2220.0, 2227.0, 2228.0, 2230.0, 2231.0, 2233.0, 2250.0, 2251.0,\n",
       "              2259.0, 2260.0, 2261.0, 2262.0, 2263.0, 2265.0, 2278.0, 2280.0,\n",
       "              2281.0, 2282.0, 2283.0, 2284.0, 2289.0, 2290.0, 2293.0, 2305.0,\n",
       "              2315.0, 2320.0, 2321.0, 2324.0, 2325.0],\n",
       "             dtype='float64')"
      ]
     },
     "execution_count": 45,
     "metadata": {},
     "output_type": "execute_result"
    }
   ],
   "source": [
    "CL_cnt.sort_index(ascending=True).index"
   ]
  },
  {
   "cell_type": "code",
   "execution_count": 37,
   "id": "50737534",
   "metadata": {},
   "outputs": [],
   "source": [
    "GC_cnt = df[df['Consumption Category'] == 'GC']['Postcode'].value_counts() / 17520"
   ]
  },
  {
   "cell_type": "code",
   "execution_count": 40,
   "id": "070a1d95",
   "metadata": {},
   "outputs": [
    {
     "data": {
      "text/plain": [
       "2008.0    1.0\n",
       "2010.0    1.0\n",
       "2018.0    2.0\n",
       "2021.0    1.0\n",
       "2025.0    1.0\n",
       "         ... \n",
       "2321.0    1.0\n",
       "2324.0    1.0\n",
       "2325.0    3.0\n",
       "2326.0    1.0\n",
       "2330.0    1.0\n",
       "Name: Postcode, Length: 100, dtype: float64"
      ]
     },
     "execution_count": 40,
     "metadata": {},
     "output_type": "execute_result"
    }
   ],
   "source": [
    "GC_cnt.sort_index(ascending=True)"
   ]
  },
  {
   "cell_type": "code",
   "execution_count": 94,
   "id": "fcc85205",
   "metadata": {},
   "outputs": [],
   "source": [
    "postcode_sorted = pd.DataFrame(GG_cnt.sort_index(ascending=True).index.astype(int), columns = ['postcode'])"
   ]
  },
  {
   "cell_type": "code",
   "execution_count": 95,
   "id": "cc7dcfce",
   "metadata": {},
   "outputs": [],
   "source": [
    "GG_sorted_cnt = pd.DataFrame(GG_cnt.sort_index(ascending=True).values.astype(int), columns = ['GG_customer_count'])"
   ]
  },
  {
   "cell_type": "code",
   "execution_count": 96,
   "id": "62ae7e76",
   "metadata": {},
   "outputs": [],
   "source": [
    "GC_sorted_cnt = pd.DataFrame(GC_cnt.sort_index(ascending=True).values.astype(int), columns = ['GC_customer_count'])"
   ]
  },
  {
   "cell_type": "code",
   "execution_count": 115,
   "id": "f055e6c7",
   "metadata": {},
   "outputs": [],
   "source": [
    "location_df = pd.concat([postcode_sorted,GG_sorted_cnt,GC_sorted_cnt], axis=1)"
   ]
  },
  {
   "cell_type": "code",
   "execution_count": 113,
   "id": "76c53a1c",
   "metadata": {},
   "outputs": [],
   "source": [
    "postcode_df_cnt = pd.DataFrame(CL_cnt.sort_index(ascending=True).index.astype(int), columns=['postcode'])\n",
    "CL_df_cnt = pd.DataFrame(CL_cnt.sort_index(ascending=True).values.astype(int), columns=['CL_customer_count'])"
   ]
  },
  {
   "cell_type": "code",
   "execution_count": 116,
   "id": "2cb2e086",
   "metadata": {},
   "outputs": [],
   "source": [
    "CL_location = pd.concat([postcode_df_cnt, CL_df_cnt], axis=1)"
   ]
  },
  {
   "cell_type": "code",
   "execution_count": 124,
   "id": "94dc374a",
   "metadata": {},
   "outputs": [],
   "source": [
    "location_df = pd.merge(location_df, CL_location, left_on='postcode', right_on = 'postcode',how='left')"
   ]
  },
  {
   "cell_type": "code",
   "execution_count": 132,
   "id": "8bada6b5",
   "metadata": {},
   "outputs": [],
   "source": [
    "location_df = location_df.fillna(int(0))"
   ]
  },
  {
   "cell_type": "code",
   "execution_count": 136,
   "id": "62834e35",
   "metadata": {},
   "outputs": [],
   "source": [
    "location_df['CL_customer_count'] = location_df['CL_customer_count'].astype(int)"
   ]
  },
  {
   "cell_type": "code",
   "execution_count": 137,
   "id": "a4ac5077",
   "metadata": {},
   "outputs": [
    {
     "data": {
      "text/html": [
       "<div>\n",
       "<style scoped>\n",
       "    .dataframe tbody tr th:only-of-type {\n",
       "        vertical-align: middle;\n",
       "    }\n",
       "\n",
       "    .dataframe tbody tr th {\n",
       "        vertical-align: top;\n",
       "    }\n",
       "\n",
       "    .dataframe thead th {\n",
       "        text-align: right;\n",
       "    }\n",
       "</style>\n",
       "<table border=\"1\" class=\"dataframe\">\n",
       "  <thead>\n",
       "    <tr style=\"text-align: right;\">\n",
       "      <th></th>\n",
       "      <th>postcode</th>\n",
       "      <th>GG_customer_count</th>\n",
       "      <th>GC_customer_count</th>\n",
       "      <th>CL_customer_count</th>\n",
       "    </tr>\n",
       "  </thead>\n",
       "  <tbody>\n",
       "    <tr>\n",
       "      <th>0</th>\n",
       "      <td>2008</td>\n",
       "      <td>1</td>\n",
       "      <td>1</td>\n",
       "      <td>0</td>\n",
       "    </tr>\n",
       "    <tr>\n",
       "      <th>1</th>\n",
       "      <td>2010</td>\n",
       "      <td>1</td>\n",
       "      <td>1</td>\n",
       "      <td>0</td>\n",
       "    </tr>\n",
       "    <tr>\n",
       "      <th>2</th>\n",
       "      <td>2018</td>\n",
       "      <td>2</td>\n",
       "      <td>2</td>\n",
       "      <td>0</td>\n",
       "    </tr>\n",
       "    <tr>\n",
       "      <th>3</th>\n",
       "      <td>2021</td>\n",
       "      <td>1</td>\n",
       "      <td>1</td>\n",
       "      <td>0</td>\n",
       "    </tr>\n",
       "    <tr>\n",
       "      <th>4</th>\n",
       "      <td>2025</td>\n",
       "      <td>1</td>\n",
       "      <td>1</td>\n",
       "      <td>0</td>\n",
       "    </tr>\n",
       "    <tr>\n",
       "      <th>...</th>\n",
       "      <td>...</td>\n",
       "      <td>...</td>\n",
       "      <td>...</td>\n",
       "      <td>...</td>\n",
       "    </tr>\n",
       "    <tr>\n",
       "      <th>95</th>\n",
       "      <td>2321</td>\n",
       "      <td>1</td>\n",
       "      <td>1</td>\n",
       "      <td>1</td>\n",
       "    </tr>\n",
       "    <tr>\n",
       "      <th>96</th>\n",
       "      <td>2324</td>\n",
       "      <td>1</td>\n",
       "      <td>1</td>\n",
       "      <td>1</td>\n",
       "    </tr>\n",
       "    <tr>\n",
       "      <th>97</th>\n",
       "      <td>2325</td>\n",
       "      <td>3</td>\n",
       "      <td>3</td>\n",
       "      <td>1</td>\n",
       "    </tr>\n",
       "    <tr>\n",
       "      <th>98</th>\n",
       "      <td>2326</td>\n",
       "      <td>1</td>\n",
       "      <td>1</td>\n",
       "      <td>0</td>\n",
       "    </tr>\n",
       "    <tr>\n",
       "      <th>99</th>\n",
       "      <td>2330</td>\n",
       "      <td>1</td>\n",
       "      <td>1</td>\n",
       "      <td>0</td>\n",
       "    </tr>\n",
       "  </tbody>\n",
       "</table>\n",
       "<p>100 rows × 4 columns</p>\n",
       "</div>"
      ],
      "text/plain": [
       "    postcode  GG_customer_count  GC_customer_count  CL_customer_count\n",
       "0       2008                  1                  1                  0\n",
       "1       2010                  1                  1                  0\n",
       "2       2018                  2                  2                  0\n",
       "3       2021                  1                  1                  0\n",
       "4       2025                  1                  1                  0\n",
       "..       ...                ...                ...                ...\n",
       "95      2321                  1                  1                  1\n",
       "96      2324                  1                  1                  1\n",
       "97      2325                  3                  3                  1\n",
       "98      2326                  1                  1                  0\n",
       "99      2330                  1                  1                  0\n",
       "\n",
       "[100 rows x 4 columns]"
      ]
     },
     "execution_count": 137,
     "metadata": {},
     "output_type": "execute_result"
    }
   ],
   "source": [
    "location_df.to_csv('')"
   ]
  }
 ],
 "metadata": {
  "kernelspec": {
   "display_name": "Python 3 (ipykernel)",
   "language": "python",
   "name": "python3"
  },
  "language_info": {
   "codemirror_mode": {
    "name": "ipython",
    "version": 3
   },
   "file_extension": ".py",
   "mimetype": "text/x-python",
   "name": "python",
   "nbconvert_exporter": "python",
   "pygments_lexer": "ipython3",
   "version": "3.8.12"
  }
 },
 "nbformat": 4,
 "nbformat_minor": 5
}
