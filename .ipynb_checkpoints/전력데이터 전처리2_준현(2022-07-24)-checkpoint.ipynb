{
 "cells": [
  {
   "cell_type": "code",
   "execution_count": null,
   "id": "8320a545",
   "metadata": {},
   "outputs": [],
   "source": [
    "import pandas as pd\n",
    "import numpy as np"
   ]
  },
  {
   "cell_type": "code",
   "execution_count": null,
   "id": "a25fd2b4",
   "metadata": {},
   "outputs": [],
   "source": [
    "df = pd.read_csv('./data/2010-2011 Solar home electricity data(Preprocessed).csv')"
   ]
  },
  {
   "cell_type": "code",
   "execution_count": null,
   "id": "7fcd70ce",
   "metadata": {},
   "outputs": [],
   "source": [
    "df.head()"
   ]
  },
  {
   "cell_type": "code",
   "execution_count": null,
   "id": "1c5f48d6",
   "metadata": {
    "scrolled": true
   },
   "outputs": [],
   "source": [
    "df.tail()"
   ]
  },
  {
   "cell_type": "code",
   "execution_count": null,
   "id": "7a1f69bb",
   "metadata": {},
   "outputs": [],
   "source": [
    "preprocessed_data = pd.DataFrame()\n",
    "c_category = np.unique(df['Consumption Category'])\n",
    "colnames = []\n",
    "for k in range(len(c_category)):\n",
    "    c_df = df[df['Consumption Category'] == c_category[k]]\n",
    "    c_customer = np.unique(c_df['Customer'])\n",
    "    \n",
    "    for j in range(len(c_customer)):\n",
    "        c_load = c_df[c_df['Customer'] == c_customer[j]]['Load(kWh)']\n",
    "        preprocessed_data = pd.concat([preprocessed_data, c_load], axis=1)\n",
    "        \n",
    "        colnames.append(\"Load(Customer\" +  str(int(c_customer[j])) + \":\"+ c_category[k] + \")\")\n",
    "        print('=', end='')"
   ]
  },
  {
   "cell_type": "code",
   "execution_count": null,
   "id": "cf91351d",
   "metadata": {},
   "outputs": [],
   "source": [
    "date = df['date'][0:17520]"
   ]
  },
  {
   "cell_type": "code",
   "execution_count": null,
   "id": "19963d99",
   "metadata": {},
   "outputs": [],
   "source": [
    "preprocessed_data"
   ]
  },
  {
   "cell_type": "code",
   "execution_count": null,
   "id": "0d81c9dc",
   "metadata": {},
   "outputs": [],
   "source": [
    "colnames"
   ]
  },
  {
   "cell_type": "code",
   "execution_count": null,
   "id": "3cfffc9a",
   "metadata": {},
   "outputs": [],
   "source": [
    "# x : time\n",
    "# y : load\n",
    "# z : customer id"
   ]
  }
 ],
 "metadata": {
  "kernelspec": {
   "display_name": "Python 3 (ipykernel)",
   "language": "python",
   "name": "python3"
  },
  "language_info": {
   "codemirror_mode": {
    "name": "ipython",
    "version": 3
   },
   "file_extension": ".py",
   "mimetype": "text/x-python",
   "name": "python",
   "nbconvert_exporter": "python",
   "pygments_lexer": "ipython3",
   "version": "3.8.12"
  }
 },
 "nbformat": 4,
 "nbformat_minor": 5
}
