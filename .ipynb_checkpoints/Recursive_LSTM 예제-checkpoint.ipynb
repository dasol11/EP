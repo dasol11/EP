{
 "cells": [
  {
   "cell_type": "code",
   "execution_count": 240,
   "id": "388d3659",
   "metadata": {},
   "outputs": [],
   "source": [
    "import numpy as np\n",
    "import pandas as pd\n",
    "\n",
    "from sklearn.preprocessing import MinMaxScaler\n",
    "from keras.models import Sequential\n",
    "from keras.layers import Dense, Dropout\n",
    "from keras.layers import LSTM\n",
    "from sklearn.model_selection import train_test_split"
   ]
  },
  {
   "cell_type": "code",
   "execution_count": 246,
   "id": "3de08577",
   "metadata": {},
   "outputs": [],
   "source": [
    "\"\"\"\n",
    "Created on Sun Jul 31 22:13:45 2022\n",
    "\n",
    "@author: Junhyun\n",
    "\"\"\"\n",
    "\n",
    "class Recursive_LSTM():\n",
    "\n",
    "    def __init__(self):\n",
    "        self.data = None\n",
    "        \n",
    "        \n",
    "    def TimeSeriesDataTransform(self, data, lag):\n",
    "        \"\"\"\n",
    "        ※ 참조 코드 : http://103.60.126.183:8150/gidatalab (LSTM)\n",
    "\n",
    "        데이터를 변환하기 위해서는 Y값이 맨 왼쪽에 위치해있어야함 \n",
    "\n",
    "        To transoform data to timeseries data, target data(Y) have to be located at leftmost\n",
    "\n",
    "        Parameters\n",
    "        ----------\n",
    "        data : DataFrame\n",
    "            data\n",
    "        lag : int\n",
    "            시계열 예측에서 데이터를 미는 시점 (= Time sequence)\n",
    "\n",
    "        Returns\n",
    "        -------\n",
    "        agg :  DataFrame\n",
    "            시계열 에측이 가능하도록 변환된 데이터\n",
    "\n",
    "        \"\"\"\n",
    "        if isinstance(self.data, np.ndarray):\n",
    "            data = pd.DataFrame(self.data)\n",
    "        elif isinstance(self.data, pd.core.series.Series):\n",
    "            data = pd.DataFrame(self.data)\n",
    "\n",
    "        n_vars = 1 if type(data) is list else data.shape[1]\n",
    "        df = pd.DataFrame(data)\n",
    "\n",
    "        cols, names = list(), list()\n",
    "\n",
    "        # 입력값의 순서 (t-n, ... t-1)\n",
    "        for i in range(lag, 0, -1):\n",
    "            cols.append(df.shift(i))\n",
    "            names += [('%s(t-%d)' % (data.columns[j], i)) for j in range(n_vars)]\n",
    "\n",
    "        # 예측의 순서 (t, t+1, ... t+n)\n",
    "        for i in range(0, 1):\n",
    "            cols.append(df.shift(-i))\n",
    "            if i == 0:\n",
    "                names += [('%s(t)' % (data.columns[j])) for j in range(n_vars)]\n",
    "            else:\n",
    "                names += [('%s(t+%d)' % (data.columns[j], i)) for j in range(n_vars)]\n",
    "\n",
    "        # 합치기\n",
    "        agg = pd.concat(cols, axis=1)\n",
    "        agg.columns = names\n",
    "\n",
    "        # NaN 값의 row를 제거\n",
    "        agg.dropna(inplace=True)\n",
    "\n",
    "        # 인덱스 초기화\n",
    "        agg = agg.reset_index(drop=True)\n",
    "        \n",
    "        # Y(t)까지 데이터만 사용\n",
    "        agg = agg.iloc[:,0:(data.shape[1]*lag)+1]\n",
    "\n",
    "        return agg\n",
    "        \n",
    "    def LSTM_model(self, X_train, X_test, y_train, y_test, epochs=50):\n",
    "        \"\"\"\n",
    "\n",
    "        Parameters\n",
    "        ----------\n",
    "        X_train : Array\n",
    "            Train input data, shape=(nrow, lag, ncol)\n",
    "        X_test : Array\n",
    "            Test input data, shape=(nrow, lag, ncol)\n",
    "        y_train : Array\n",
    "            Train input data, shape=(nrow,)\n",
    "        y_test : Array\n",
    "            Train input data, shape=(nrow,)\n",
    "        epochs : int\n",
    "            LSTM 학습횟수\n",
    "\n",
    "        Returns\n",
    "        -------\n",
    "        trainPrediction : Array\n",
    "            Train Prediction\n",
    "        testPrediction : Array\n",
    "            Test Prediction\n",
    "\n",
    "        \"\"\"\n",
    "        \n",
    "    \n",
    "        # LSTM의 구조\n",
    "        model = Sequential()\n",
    "        model.add(LSTM(8, input_shape=(X_train.shape[1], X_train.shape[2]), return_sequences=True, activation='relu')) # 하나의 층 8개의 노드, return_sequences=True 필수\n",
    "        model.add(LSTM(4, activation='relu', return_sequences=False)) # 하나의층, 4개의 노드, 마지막에는 return_sequences=False\n",
    "        model.add(Dense(1)) # 노드가 하나인 구조를 만들었다 (하나의 예측값으로 표현하기 위해)\n",
    "\n",
    "        # model compile\n",
    "        model.compile(loss='mse', optimizer='adam')\n",
    "\n",
    "        # fit network\n",
    "        history = model.fit(X_train, y_train, epochs=epochs, verbose=0, shuffle=False) # epochs : 반복횟수\n",
    "\n",
    "        lstm_train_pred = model.predict(X_train)\n",
    "        lstm_test_pred = model.predict(X_test)\n",
    "\n",
    "        return({'trainPrediction':lstm_train_pred, 'testPrediction':lstm_test_pred})\n",
    "        \n",
    "    # Recursive LSTM model\n",
    "    def RLSTM_model(self, X, y, trainCycle=10, predictionCycle=5, Cycle=5, epochs=50):\n",
    "        \"\"\"\n",
    "\n",
    "        Parameters\n",
    "        ----------\n",
    "        X : Array  \n",
    "            Input data, shape=(nrow, lag, ncol)\n",
    "        y : Array\n",
    "            Output data, shape=(nrow,)\n",
    "        trainCycle : int\n",
    "            며칠 주기로 학습할 것인지 \n",
    "        predictionCycle : int\n",
    "            며칠 주기로 예측할 것인지\n",
    "        Cycle : int\n",
    "            위 과정을 몇번 반복할 것인지\n",
    "        epochs : int\n",
    "            LSTM 학습 횟수\n",
    "\n",
    "        Returns\n",
    "        -------\n",
    "        recursive_test_pred : Array\n",
    "            test 데이터를 recursive하게 예측한 결과\n",
    "\n",
    "\n",
    "        예시)\n",
    "        1row = 1일일때, \n",
    "        trainCycle = 5 -> 5일 주기로 학습\n",
    "        predictionCycle = 2 -> 2일 주기로 예측\n",
    "\n",
    "        1월 1일 데이터가 있다고 가정\n",
    "\n",
    "        - 1월 1일 ~ 1월 5일 (5일) 학습 후, 1월 6일~1월 7일 (2일) 예측 (1cycle)\n",
    "        - 1월 3일 ~ 1월 7일 (5일) 학습 후, 1월 8일~1월 9일 (2일) 예측 (2cycle) (1월 6일은 실제 데이터임 (예측한 데이터 X)) (현재시점까지 왔다고 가정)\n",
    "        - 1월 5일 ~ 1월 9일 (5일) 학습 후, 1월 10일~1월 11일 (2일) (1일) 예측 (3cycle) (1월 7일은 실제 데이터임 (예측한 데이터 X)) (현재시점까지 왔다고 가정)\n",
    "\n",
    "\n",
    "        \"\"\"\n",
    "        \n",
    "        # Recursive Prediction\n",
    "        recursive_test_pred = np.array([])\n",
    "\n",
    "        for i in range(Cycle):\n",
    "            \n",
    "            # Recursive prediction\n",
    "            recursive_X_train = X[(predictionCycle*i):(trainCycle+predictionCycle*i),:,:]\n",
    "            recursive_y_train = y[(predictionCycle*i):(trainCycle+predictionCycle*i),]\n",
    "\n",
    "            recursive_X_test = X[(trainCycle+predictionCycle*i):(trainCycle+predictionCycle*(i+1)),:]\n",
    "            recursive_y_test = y[(trainCycle+predictionCycle*i):(trainCycle+predictionCycle*(i+1)),]\n",
    "            \n",
    "            lstm_pred = LSTM_model(recursive_X_train, recursive_X_test, recursive_y_train, recursive_y_test, epochs = epochs)\n",
    "            \n",
    "            recursive_test_pred = np.append(recursive_test_pred, lstm_pred['testPrediction'])\n",
    "            \n",
    "        return(recursive_test_pred)\n",
    "\n",
    "    def maxCycleNum(self, data, trainCycle=10, predictionCycle=5):\n",
    "        \n",
    "        \"\"\"\n",
    "        \n",
    "        Parameters\n",
    "        ----------\n",
    "        data : DataFrame\n",
    "            data\n",
    "        trainCycle : int\n",
    "            며칠 주기로 학습할 것인지 \n",
    "        predictionCycle : int\n",
    "            며칠 주기로 예측할 것인지\n",
    "\n",
    "        Returns\n",
    "        -------\n",
    "        maxCycle : int\n",
    "            Recursive 하게 예측할 수 있는 최대 cycle 수\n",
    "\n",
    "\n",
    "        \"\"\"\n",
    "        \n",
    "        self.maxCycle = int((data.shape[0] - trainCycle) / predictionCycle) - 1\n",
    "\n",
    "        print('Max Cycle Number : %d' % self.maxCycle)\n",
    "\n",
    "        return(self.maxCycle)\n"
   ]
  },
  {
   "cell_type": "code",
   "execution_count": 282,
   "id": "85da50a2",
   "metadata": {},
   "outputs": [],
   "source": [
    "from sklearn.datasets import load_iris\n",
    "\n",
    "iris = load_iris(as_frame=True)\n",
    "data = iris['data']"
   ]
  },
  {
   "cell_type": "code",
   "execution_count": 283,
   "id": "4a7c3f70",
   "metadata": {},
   "outputs": [
    {
     "data": {
      "text/html": [
       "<div>\n",
       "<style scoped>\n",
       "    .dataframe tbody tr th:only-of-type {\n",
       "        vertical-align: middle;\n",
       "    }\n",
       "\n",
       "    .dataframe tbody tr th {\n",
       "        vertical-align: top;\n",
       "    }\n",
       "\n",
       "    .dataframe thead th {\n",
       "        text-align: right;\n",
       "    }\n",
       "</style>\n",
       "<table border=\"1\" class=\"dataframe\">\n",
       "  <thead>\n",
       "    <tr style=\"text-align: right;\">\n",
       "      <th></th>\n",
       "      <th>sepal length (cm)</th>\n",
       "      <th>sepal width (cm)</th>\n",
       "      <th>petal length (cm)</th>\n",
       "      <th>petal width (cm)</th>\n",
       "    </tr>\n",
       "  </thead>\n",
       "  <tbody>\n",
       "    <tr>\n",
       "      <th>0</th>\n",
       "      <td>5.1</td>\n",
       "      <td>3.5</td>\n",
       "      <td>1.4</td>\n",
       "      <td>0.2</td>\n",
       "    </tr>\n",
       "    <tr>\n",
       "      <th>1</th>\n",
       "      <td>4.9</td>\n",
       "      <td>3.0</td>\n",
       "      <td>1.4</td>\n",
       "      <td>0.2</td>\n",
       "    </tr>\n",
       "    <tr>\n",
       "      <th>2</th>\n",
       "      <td>4.7</td>\n",
       "      <td>3.2</td>\n",
       "      <td>1.3</td>\n",
       "      <td>0.2</td>\n",
       "    </tr>\n",
       "    <tr>\n",
       "      <th>3</th>\n",
       "      <td>4.6</td>\n",
       "      <td>3.1</td>\n",
       "      <td>1.5</td>\n",
       "      <td>0.2</td>\n",
       "    </tr>\n",
       "    <tr>\n",
       "      <th>4</th>\n",
       "      <td>5.0</td>\n",
       "      <td>3.6</td>\n",
       "      <td>1.4</td>\n",
       "      <td>0.2</td>\n",
       "    </tr>\n",
       "  </tbody>\n",
       "</table>\n",
       "</div>"
      ],
      "text/plain": [
       "   sepal length (cm)  sepal width (cm)  petal length (cm)  petal width (cm)\n",
       "0                5.1               3.5                1.4               0.2\n",
       "1                4.9               3.0                1.4               0.2\n",
       "2                4.7               3.2                1.3               0.2\n",
       "3                4.6               3.1                1.5               0.2\n",
       "4                5.0               3.6                1.4               0.2"
      ]
     },
     "execution_count": 283,
     "metadata": {},
     "output_type": "execute_result"
    }
   ],
   "source": [
    "data.head()"
   ]
  },
  {
   "cell_type": "code",
   "execution_count": 315,
   "id": "ff921884",
   "metadata": {},
   "outputs": [],
   "source": [
    "# 클래스 선언\n",
    "rlstm = Recursive_LSTM()\n",
    "\n",
    "lag = 3\n",
    "reframed = rlstm.TimeSeriesDataTransform(data, lag=lag)"
   ]
  },
  {
   "cell_type": "code",
   "execution_count": 327,
   "id": "1c7d131e",
   "metadata": {},
   "outputs": [],
   "source": [
    "# X, y\n",
    "X = reframed.values[:,0:-1]\n",
    "y = reframed.values[:,-1]"
   ]
  },
  {
   "cell_type": "code",
   "execution_count": 331,
   "id": "a1d8d4ac",
   "metadata": {},
   "outputs": [],
   "source": [
    "# MinMax Scaler\n",
    "scaler = MinMaxScaler()\n",
    "scaler = MinMaxScaler(feature_range=(0, 1)) # 0~1사이로 scale\n",
    "scaled = scaler.fit_transform(X)"
   ]
  },
  {
   "cell_type": "code",
   "execution_count": 342,
   "id": "64724c01",
   "metadata": {},
   "outputs": [
    {
     "data": {
      "text/plain": [
       "(150, 4)"
      ]
     },
     "execution_count": 342,
     "metadata": {},
     "output_type": "execute_result"
    }
   ],
   "source": [
    "X = X.reshape(X.shape[0], lag, data.shape[1])\n",
    "y = y"
   ]
  },
  {
   "cell_type": "code",
   "execution_count": 345,
   "id": "0f3a0b64",
   "metadata": {},
   "outputs": [],
   "source": [
    "# X_train, X_test, y_Train, y_test\n",
    "X_train, X_test, y_train, y_test = train_test_split(X, y, test_size=0.3, shuffle=False)"
   ]
  },
  {
   "cell_type": "code",
   "execution_count": 346,
   "id": "dacd658b",
   "metadata": {},
   "outputs": [
    {
     "name": "stdout",
     "output_type": "stream",
     "text": [
      "4/4 [==============================] - 0s 2ms/step\n",
      "2/2 [==============================] - 0s 3ms/step\n"
     ]
    }
   ],
   "source": [
    "# LSTM\n",
    "lstm_pred = rlstm.LSTM_model(X_train, X_test, y_train, y_test, epochs=1)"
   ]
  },
  {
   "cell_type": "code",
   "execution_count": 348,
   "id": "ada06d47",
   "metadata": {},
   "outputs": [
    {
     "name": "stdout",
     "output_type": "stream",
     "text": [
      "Max Cycle Number : 18\n"
     ]
    }
   ],
   "source": [
    "maxCycle = rlstm.maxCycleNum(X, trainCycle=50, predictionCycle=5)"
   ]
  },
  {
   "cell_type": "code",
   "execution_count": 350,
   "id": "6e3f6d8e",
   "metadata": {
    "scrolled": true
   },
   "outputs": [
    {
     "name": "stdout",
     "output_type": "stream",
     "text": [
      "1/1 [==============================] - 0s 325ms/step\n",
      "1/1 [==============================] - 0s 25ms/step\n",
      "1/1 [==============================] - 0s 337ms/step\n",
      "1/1 [==============================] - 0s 22ms/step\n",
      "1/1 [==============================] - 0s 341ms/step\n",
      "1/1 [==============================] - 0s 22ms/step\n",
      "1/1 [==============================] - 0s 323ms/step\n",
      "1/1 [==============================] - 0s 22ms/step\n",
      "1/1 [==============================] - 1s 860ms/step\n",
      "1/1 [==============================] - 0s 22ms/step\n",
      "1/1 [==============================] - 0s 323ms/step\n",
      "1/1 [==============================] - 0s 22ms/step\n",
      "1/1 [==============================] - 0s 324ms/step\n",
      "1/1 [==============================] - 0s 22ms/step\n",
      "1/1 [==============================] - 0s 324ms/step\n",
      "1/1 [==============================] - 0s 22ms/step\n",
      "1/1 [==============================] - 0s 322ms/step\n",
      "1/1 [==============================] - 0s 21ms/step\n",
      "1/1 [==============================] - 0s 333ms/step\n",
      "1/1 [==============================] - 0s 21ms/step\n",
      "1/1 [==============================] - 0s 320ms/step\n",
      "1/1 [==============================] - 0s 22ms/step\n",
      "1/1 [==============================] - 0s 321ms/step\n",
      "1/1 [==============================] - 0s 25ms/step\n",
      "1/1 [==============================] - 0s 328ms/step\n",
      "1/1 [==============================] - 0s 21ms/step\n",
      "1/1 [==============================] - 0s 319ms/step\n",
      "1/1 [==============================] - 0s 21ms/step\n",
      "1/1 [==============================] - 0s 320ms/step\n",
      "1/1 [==============================] - 0s 21ms/step\n",
      "1/1 [==============================] - 0s 319ms/step\n",
      "1/1 [==============================] - 0s 24ms/step\n",
      "1/1 [==============================] - 0s 318ms/step\n",
      "1/1 [==============================] - 0s 21ms/step\n",
      "1/1 [==============================] - 0s 324ms/step\n",
      "1/1 [==============================] - 0s 21ms/step\n"
     ]
    }
   ],
   "source": [
    "# Recursive LSTM\n",
    "rlstm_pred = rlstm.RLSTM_model(X, y, trainCycle=10, predictionCycle=5, Cycle=maxCycle, epochs=1)"
   ]
  },
  {
   "cell_type": "code",
   "execution_count": 351,
   "id": "61c732fe",
   "metadata": {},
   "outputs": [
    {
     "data": {
      "text/plain": [
       "array([ 5.35412244e-02,  4.84791361e-02,  5.27986102e-02,  5.99404834e-02,\n",
       "        6.61182404e-02, -3.53066295e-01, -3.20823610e-01, -3.25776756e-01,\n",
       "       -3.34629178e-01, -3.21015298e-01,  7.02817691e-03,  6.13599643e-03,\n",
       "        2.82073952e-03, -5.81358909e-04, -6.83912891e-04, -9.71754491e-02,\n",
       "       -1.01266995e-01, -1.01371221e-01, -9.71401036e-02, -9.45365131e-02,\n",
       "        2.16024891e-01,  2.25053594e-01,  2.46405751e-01,  2.41295218e-01,\n",
       "        2.19095156e-01, -1.02493241e-02, -1.35399513e-02, -1.10130124e-02,\n",
       "       -9.67587624e-03, -1.46942083e-02, -1.24189526e-01, -1.18392579e-01,\n",
       "       -1.14232123e-01, -1.17778502e-01, -1.12533741e-01, -4.75499481e-01,\n",
       "       -4.84240353e-01, -4.68708187e-01, -6.17010593e-01, -7.60917008e-01,\n",
       "       -5.78907318e-02, -3.05141527e-02, -4.15957533e-02, -3.01722158e-02,\n",
       "       -4.09164019e-02,  4.18081105e-01,  4.77769196e-01,  3.99836540e-01,\n",
       "        4.00509298e-01,  4.07177925e-01, -4.97217000e-01, -5.26474476e-01,\n",
       "       -5.19389451e-01, -5.46991289e-01, -5.03957510e-01,  2.85373759e-02,\n",
       "        2.84951478e-02,  3.25668566e-02,  3.32826898e-02,  2.91124452e-02,\n",
       "        2.49687061e-02,  2.74462905e-02,  2.88480930e-02,  2.91570127e-02,\n",
       "        3.01308967e-02,  3.00554056e-02,  3.30740511e-02,  3.00708599e-02,\n",
       "        2.43082270e-02,  1.93534959e-02,  1.81300238e-01,  1.93017364e-01,\n",
       "        1.95954725e-01,  1.93619907e-01,  1.97890282e-01, -3.26499827e-02,\n",
       "       -3.28236930e-02, -3.01979575e-02, -2.88671497e-02, -3.02697476e-02,\n",
       "        9.99999815e-04,  9.99999815e-04,  9.99999815e-04,  9.99999815e-04,\n",
       "        9.99999815e-04, -6.17527962e-03, -4.32945369e-03, -2.66652973e-03,\n",
       "       -4.88998415e-03, -1.43275224e-02])"
      ]
     },
     "execution_count": 351,
     "metadata": {},
     "output_type": "execute_result"
    }
   ],
   "source": [
    "rlstm_pred"
   ]
  },
  {
   "cell_type": "code",
   "execution_count": 352,
   "id": "6c8230f2",
   "metadata": {},
   "outputs": [
    {
     "data": {
      "image/png": "[encoded data removed]",
      "text/plain": [
       "<Figure size 864x288 with 1 Axes>"
      ]
     },
     "metadata": {
      "needs_background": "light"
     },
     "output_type": "display_data"
    }
   ],
   "source": [
    "import matplotlib.pyplot as plt\n",
    "plt.figure(figsize=(12,4))\n",
    "plt.plot(rlstm_pred, color='blue')\n",
    "plt.show()"
   ]
  },
  {
   "cell_type": "code",
   "execution_count": null,
   "id": "31b2a94e",
   "metadata": {},
   "outputs": [],
   "source": []
  }
 ],
 "metadata": {
  "kernelspec": {
   "display_name": "Python 3 (ipykernel)",
   "language": "python",
   "name": "python3"
  },
  "language_info": {
   "codemirror_mode": {
    "name": "ipython",
    "version": 3
   },
   "file_extension": ".py",
   "mimetype": "text/x-python",
   "name": "python",
   "nbconvert_exporter": "python",
   "pygments_lexer": "ipython3",
   "version": "3.8.12"
  }
 },
 "nbformat": 4,
 "nbformat_minor": 5
}
